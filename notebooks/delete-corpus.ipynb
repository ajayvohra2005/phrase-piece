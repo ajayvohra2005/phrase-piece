{
 "cells": [
  {
   "cell_type": "code",
   "execution_count": null,
   "id": "16e204c3",
   "metadata": {},
   "outputs": [],
   "source": [
    "import boto3\n",
    "lambda_client = boto3.client(\"lambda\")\n",
    "s3_client = boto3.client(\"s3\")"
   ]
  },
  {
   "cell_type": "code",
   "execution_count": null,
   "id": "ce406889",
   "metadata": {},
   "outputs": [],
   "source": [
    "def s3_bucket_keys(s3_client, bucket_name, bucket_prefix):\n",
    "    \"\"\"Generator for listing S3 bucket keys matching prefix\"\"\"\n",
    "\n",
    "    kwargs = {'Bucket': bucket_name, 'Prefix': bucket_prefix}\n",
    "    while True:\n",
    "        resp = s3_client.list_objects_v2(**kwargs)\n",
    "        for obj in resp['Contents']:\n",
    "            yield obj['Key']\n",
    "\n",
    "        try:\n",
    "            kwargs['ContinuationToken'] = resp['NextContinuationToken']\n",
    "        except KeyError:\n",
    "            break\n",
    "\n",
    "def s3_delete_path(s3_client, bucket, bucket_path):\n",
    "    try:\n",
    "        for key in s3_bucket_keys(s3_client, bucket_name=bucket, bucket_prefix=bucket_path):\n",
    "            s3_client.delete_object(Bucket=bucket, Key=key)\n",
    "    except Exception as error:\n",
    "        pass"
   ]
  },
  {
   "cell_type": "code",
   "execution_count": null,
   "id": "075e322e",
   "metadata": {},
   "outputs": [],
   "source": [
    "dynamodb = boto3.resource('dynamodb')\n",
    "table = dynamodb.Table('')\n",
    "\n",
    "response = table.scan()\n",
    "data = response['Items']\n",
    "\n",
    "while 'LastEvaluatedKey' in response:\n",
    "    response = table.scan(ExclusiveStartKey=response['LastEvaluatedKey'])\n",
    "    data.extend(response['Items'])\n",
    "\n",
    "data"
   ]
  },
  {
   "cell_type": "code",
   "execution_count": null,
   "id": "2bbb6141",
   "metadata": {},
   "outputs": [],
   "source": [
    "import time\n",
    "\n",
    "sfn_client=boto3.client('stepfunctions')\n",
    "def wait_for_sfn_sm(sm_execution_arn):\n",
    "    status = 'RUNNING'\n",
    "    while status == 'RUNNING':\n",
    "        response = sfn_client.describe_execution(executionArn=sm_execution_arn)\n",
    "        status = response.get('status')\n",
    "        if status == 'RUNNING':\n",
    "            time.sleep(15)\n",
    "        \n",
    "    return status"
   ]
  },
  {
   "cell_type": "code",
   "execution_count": null,
   "id": "5bce45c5",
   "metadata": {},
   "outputs": [],
   "source": [
    "import json\n",
    "\n",
    "filter=[]\n",
    "sms = []\n",
    "for item in data:\n",
    "  corpus_id = item['corpus_id']\n",
    "  if filter and corpus_id not in filter:\n",
    "    continue\n",
    "  payload = json.dumps( { \"body\": \"{ \\\"CorpusId\\\": \\\"\" + corpus_id + \"\\\" }\" } )\n",
    "\n",
    "  print(payload)\n",
    "  response = lambda_client.invoke(\n",
    "      FunctionName='',\n",
    "      InvocationType='RequestResponse',\n",
    "      Payload=payload\n",
    "  )\n",
    "  json_obj = json.loads(response['Payload'].read())\n",
    "  response_body = json.loads(json_obj['body'])\n",
    "  print(response_body)\n",
    "  sms.append( (response_body['CorpusStateMachine'],  corpus_id) )\n",
    "\n",
    "sms"
   ]
  },
  {
   "cell_type": "code",
   "execution_count": null,
   "id": "e6d8ac72",
   "metadata": {},
   "outputs": [],
   "source": [
    "sms"
   ]
  },
  {
   "cell_type": "code",
   "execution_count": null,
   "id": "cbd25702",
   "metadata": {},
   "outputs": [],
   "source": [
    "delete_corpus_failed = []\n",
    "corpora_bucket = \"\"\n",
    "for sm, corpus_id in sms:\n",
    "    status = wait_for_sfn_sm(sm_execution_arn=sm)\n",
    "    if status == \"SUCCEEDED\":\n",
    "        print(f\"delete: s3://{corpora_bucket}/{corpus_id}/\")\n",
    "        s3_delete_path(s3_client, corpora_bucket, corpus_id)\n",
    "    else:\n",
    "        delete_corpus_failed.append((corpus_id))\n",
    "    \n",
    "\n",
    "if delete_corpus_failed:\n",
    "    print(f\"Delete Corpus Failed: {delete_corpus_failed}\")"
   ]
  }
 ],
 "metadata": {
  "kernelspec": {
   "display_name": "Python 3.8.13 ('pytorch')",
   "language": "python",
   "name": "python3"
  },
  "language_info": {
   "codemirror_mode": {
    "name": "ipython",
    "version": 3
   },
   "file_extension": ".py",
   "mimetype": "text/x-python",
   "name": "python",
   "nbconvert_exporter": "python",
   "pygments_lexer": "ipython3",
   "version": "3.10.12"
  },
  "vscode": {
   "interpreter": {
    "hash": "4dbc9917bcaa9a9fa434c727723b90f93ecc3435121eacd019fcd02c268a833c"
   }
  }
 },
 "nbformat": 4,
 "nbformat_minor": 5
}
