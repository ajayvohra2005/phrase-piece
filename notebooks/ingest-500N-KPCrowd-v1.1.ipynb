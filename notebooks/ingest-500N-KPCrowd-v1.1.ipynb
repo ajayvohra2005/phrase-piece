{
 "cells": [
  {
   "cell_type": "code",
   "execution_count": null,
   "id": "18d0ca01",
   "metadata": {},
   "outputs": [],
   "source": [
    "\n",
    "!pip install boto3"
   ]
  },
  {
   "cell_type": "code",
   "execution_count": null,
   "id": "6983fbf8",
   "metadata": {},
   "outputs": [],
   "source": [
    "import boto3\n",
    "lambda_client = boto3.client(\"lambda\")\n",
    "s3_client = boto3.client(\"s3\")\n",
    "\n",
    "universe_bucket = \"\""
   ]
  },
  {
   "cell_type": "code",
   "execution_count": 5,
   "id": "38610b44",
   "metadata": {},
   "outputs": [],
   "source": [
    "import glob\n",
    "import os\n",
    "import time\n",
    "from pathlib import Path\n",
    "import json\n",
    "\n",
    "root_dir = \"../datasets/500N-KPCrowd-v1.1/docsutf8\"\n",
    "assert os.path.isdir(root_dir)\n",
    "\n",
    "files = glob.glob(f\"{root_dir}/*.txt\")\n",
    "lang_code = \"en\"\n",
    "country_code = ''\n",
    "prefix = \"eval/500N-KPCrowd-v1.1/docs\"\n",
    "for file in files:\n",
    "    with open(file, \"r\") as f:\n",
    "        text = f.read()\n",
    "        created_at = int(time.time()*1000)\n",
    "        document_id = Path(file).stem\n",
    "\n",
    "        json_obj = {\n",
    "            \"document_id\": document_id,\n",
    "            \"text\":  text,\n",
    "            \"timestamp_ms\": created_at,\n",
    "            \"language_code\": lang_code,\n",
    "            \"country_code\": country_code,\n",
    "        }\n",
    "\n",
    "        key = f\"{prefix}/{document_id}.json\"\n",
    "        s3_client.put_object( Bucket=universe_bucket, Key=key, Body=json.dumps(json_obj))"
   ]
  },
  {
   "cell_type": "code",
   "execution_count": 6,
   "id": "edb092b1",
   "metadata": {},
   "outputs": [],
   "source": [
    "root_dir = \"../datasets/500N-KPCrowd-v1.1/keys\"\n",
    "assert os.path.isdir(root_dir)\n",
    "\n",
    "files = glob.glob(f\"{root_dir}/*.key\")\n",
    "prefix = \"eval/500N-KPCrowd-v1.1/keys\"\n",
    "for file in files:\n",
    "    with open(file, \"r\") as f:\n",
    "        document_id = Path(file).stem\n",
    "        lines = f.read().splitlines()\n",
    "        \n",
    "        json_obj = { \"document_id\": document_id}\n",
    "\n",
    "        keyphrases = []\n",
    "        for key_phase in lines:\n",
    "            if len(key_phase.split()) > 1:\n",
    "                keyphrases.append(key_phase)\n",
    "        json_obj['keyphrases'] = keyphrases\n",
    "        \n",
    "        key = f\"{prefix}/{document_id}.json\"\n",
    "        s3_client.put_object( Bucket=universe_bucket, Key=key, Body=json.dumps(json_obj))"
   ]
  }
 ],
 "metadata": {
  "kernelspec": {
   "display_name": "Python 3.8.13 ('pytorch')",
   "language": "python",
   "name": "python3"
  },
  "language_info": {
   "codemirror_mode": {
    "name": "ipython",
    "version": 3
   },
   "file_extension": ".py",
   "mimetype": "text/x-python",
   "name": "python",
   "nbconvert_exporter": "python",
   "pygments_lexer": "ipython3",
   "version": "3.8.16"
  },
  "vscode": {
   "interpreter": {
    "hash": "4dbc9917bcaa9a9fa434c727723b90f93ecc3435121eacd019fcd02c268a833c"
   }
  }
 },
 "nbformat": 4,
 "nbformat_minor": 5
}
