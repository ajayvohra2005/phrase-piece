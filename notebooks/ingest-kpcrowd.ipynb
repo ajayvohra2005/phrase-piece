{
 "cells": [
  {
   "cell_type": "code",
   "execution_count": null,
   "id": "6983fbf8",
   "metadata": {},
   "outputs": [],
   "source": [
    "from datasets import load_dataset"
   ]
  },
  {
   "cell_type": "code",
   "execution_count": null,
   "id": "fb934453",
   "metadata": {},
   "outputs": [],
   "source": [
    "# get entire dataset\n",
    "dataset = load_dataset(\"midas/kpcrowd\", \"raw\")\n",
    "dataset"
   ]
  },
  {
   "cell_type": "code",
   "execution_count": null,
   "id": "edd853b9",
   "metadata": {},
   "outputs": [],
   "source": [
    "# sample from the test split\n",
    "test_dataset  = dataset[\"test\"]\n",
    "test_dataset"
   ]
  },
  {
   "cell_type": "code",
   "execution_count": null,
   "id": "dee0afe2",
   "metadata": {},
   "outputs": [],
   "source": [
    "row=test_dataset[1]\n",
    "row['extractive_keyphrases']"
   ]
  },
  {
   "cell_type": "code",
   "execution_count": null,
   "id": "e0ed4566",
   "metadata": {},
   "outputs": [],
   "source": [
    "import json\n",
    "import boto3\n",
    "from uuid import uuid4\n",
    "from nltk.tokenize.treebank import TreebankWordDetokenizer\n",
    "\n",
    "universe_bucket=\"\"\n",
    "documents_prefix = f\"midas/kpcrowd/documents\"\n",
    "keyphrases_prefix = f\"midas/kpcrowd/keyphrases\"\n",
    "\n",
    "s3_client = boto3.client(\"s3\")\n",
    "for row in test_dataset:\n",
    "    text = TreebankWordDetokenizer().detokenize(row['document'])\n",
    "    id = row['id']\n",
    "\n",
    "    json_obj = {\n",
    "        \"document_id\": id,\n",
    "        \"keyphrases\": row['extractive_keyphrases']\n",
    "    }\n",
    "    file_name = str(uuid4())\n",
    "    key = f\"{documents_prefix}/id={id}/{file_name}.txt\"\n",
    "    s3_client.put_object( Bucket=universe_bucket, Key=key, Body=text)\n",
    "\n",
    "    key = f\"{keyphrases_prefix}/id={id}/{file_name}.json\"\n",
    "    s3_client.put_object( Bucket=universe_bucket, Key=key, Body=json.dumps(json_obj))"
   ]
  }
 ],
 "metadata": {
  "kernelspec": {
   "display_name": "Python 3.8.13 ('pytorch')",
   "language": "python",
   "name": "python3"
  },
  "language_info": {
   "codemirror_mode": {
    "name": "ipython",
    "version": 3
   },
   "file_extension": ".py",
   "mimetype": "text/x-python",
   "name": "python",
   "nbconvert_exporter": "python",
   "pygments_lexer": "ipython3",
   "version": "3.8.16"
  },
  "vscode": {
   "interpreter": {
    "hash": "4dbc9917bcaa9a9fa434c727723b90f93ecc3435121eacd019fcd02c268a833c"
   }
  }
 },
 "nbformat": 4,
 "nbformat_minor": 5
}
