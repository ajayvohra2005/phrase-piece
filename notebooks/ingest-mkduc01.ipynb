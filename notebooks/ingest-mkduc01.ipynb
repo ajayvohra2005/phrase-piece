{
 "cells": [
  {
   "cell_type": "code",
   "execution_count": 2,
   "id": "b5c397fa",
   "metadata": {},
   "outputs": [],
   "source": [
    "import json\n",
    "\n",
    "json_path = \"/home/ubuntu/efs/git/MkDUC-01/data/MKDUC01.json\"\n",
    "\n",
    "with open(json_path, \"r\") as json_file:\n",
    "    json_obj = json.load(json_file)"
   ]
  },
  {
   "cell_type": "code",
   "execution_count": null,
   "id": "e0ed4566",
   "metadata": {},
   "outputs": [],
   "source": [
    "import json\n",
    "import boto3\n",
    "\n",
    "universe_bucket = \"\n",
    "documents_prefix = f\"mkduc-01/documents\"\n",
    "keyphrases_prefix = f\"mkduc-01/keyphrases\"\n",
    "\n",
    "s3_client = boto3.client(\"s3\")\n",
    "for id in json_obj.keys():\n",
    "    documents = json_obj[id]['documents']\n",
    "    keyphrases = { \"keyphrases\": json_obj[id]['keyphrases'] }\n",
    "\n",
    "    for file_name in documents.keys():\n",
    "        text = documents[file_name]\n",
    "\n",
    "        key = f\"{documents_prefix}/id={id}/{file_name}.txt\"\n",
    "        s3_client.put_object( Bucket=universe_bucket, Key=key, Body=text)\n",
    "\n",
    "    key = f\"{keyphrases_prefix}/id={id}/keyphrases.json\"\n",
    "    s3_client.put_object( Bucket=universe_bucket, Key=key, Body=json.dumps(keyphrases))"
   ]
  }
 ],
 "metadata": {
  "kernelspec": {
   "display_name": "Python 3.8.13 ('pytorch')",
   "language": "python",
   "name": "python3"
  },
  "language_info": {
   "codemirror_mode": {
    "name": "ipython",
    "version": 3
   },
   "file_extension": ".py",
   "mimetype": "text/x-python",
   "name": "python",
   "nbconvert_exporter": "python",
   "pygments_lexer": "ipython3",
   "version": "3.10.9"
  },
  "vscode": {
   "interpreter": {
    "hash": "4dbc9917bcaa9a9fa434c727723b90f93ecc3435121eacd019fcd02c268a833c"
   }
  }
 },
 "nbformat": 4,
 "nbformat_minor": 5
}
