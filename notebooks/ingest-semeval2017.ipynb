{
 "cells": [
  {
   "cell_type": "markdown",
   "id": "dd09d840",
   "metadata": {},
   "source": [
    "## Install Python packages \n",
    "Let us first install the required python packages."
   ]
  },
  {
   "cell_type": "code",
   "execution_count": null,
   "id": "a96d4aa8",
   "metadata": {},
   "outputs": [],
   "source": [
    "!pip3 install datasets\n"
   ]
  },
  {
   "cell_type": "markdown",
   "id": "3843a33d",
   "metadata": {},
   "source": [
    "## Load dataset\n",
    "\n",
    "Now we load `midas/semeval2017` Hugging Face dataset, and inspect the `test` split."
   ]
  },
  {
   "cell_type": "code",
   "execution_count": null,
   "id": "fb934453",
   "metadata": {},
   "outputs": [],
   "source": [
    "# get entire dataset\n",
    "from datasets import load_dataset\n",
    "dataset = load_dataset(\"midas/semeval2017\", \"raw\")\n",
    "# sample from the test split\n",
    "test_dataset  = dataset[\"test\"]\n",
    "test_dataset"
   ]
  },
  {
   "cell_type": "markdown",
   "id": "8efcf320",
   "metadata": {},
   "source": [
    "## Ingest dataset into S3 bucket\n",
    "\n",
    "Below we must specify the S3 `universe_bucket` so we can ingest the dataset into the S3 bucket."
   ]
  },
  {
   "cell_type": "code",
   "execution_count": null,
   "id": "e0ed4566",
   "metadata": {},
   "outputs": [],
   "source": [
    "import json\n",
    "import boto3\n",
    "from uuid import uuid4\n",
    "\n",
    "universe_bucket=\"ajayvohra-phrase-piece-pdx-1\"\n",
    "assert universe_bucket, \"universe bucket is required\"\n",
    "documents_prefix = f\"midas/semeval2017/documents\"\n",
    "keyphrases_prefix = f\"midas/semeval2017/keyphrases\"\n",
    "\n",
    "s3_client = boto3.client(\"s3\")\n",
    "for row in test_dataset:\n",
    "    text = \" \".join(row['document'])\n",
    "    id=row['id']\n",
    "\n",
    "    json_obj = {\n",
    "        \"document_id\": id,\n",
    "        \"keyphrases\": row['extractive_keyphrases']\n",
    "    }\n",
    "    file_name = str(uuid4())\n",
    "    key = f\"{documents_prefix}/id={id}/{file_name}.txt\"\n",
    "    s3_client.put_object( Bucket=universe_bucket, Key=key, Body=text)\n",
    "    key = f\"{keyphrases_prefix}/id={id}/{file_name}.json\"\n",
    "    s3_client.put_object( Bucket=universe_bucket, Key=key, Body=json.dumps(json_obj))"
   ]
  },
  {
   "cell_type": "markdown",
   "id": "b4e6c06f",
   "metadata": {},
   "source": [
    "## Conclusion\n",
    "\n",
    "The data has been ingested into the S3 bucket.\n"
   ]
  }
 ],
 "metadata": {
  "kernelspec": {
   "display_name": ".venv",
   "language": "python",
   "name": "python3"
  },
  "language_info": {
   "codemirror_mode": {
    "name": "ipython",
    "version": 3
   },
   "file_extension": ".py",
   "mimetype": "text/x-python",
   "name": "python",
   "nbconvert_exporter": "python",
   "pygments_lexer": "ipython3",
   "version": "3.10.12"
  }
 },
 "nbformat": 4,
 "nbformat_minor": 5
}
