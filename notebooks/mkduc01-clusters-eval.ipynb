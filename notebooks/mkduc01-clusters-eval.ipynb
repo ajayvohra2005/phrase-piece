{
 "cells": [
  {
   "cell_type": "code",
   "execution_count": null,
   "id": "6983fbf8",
   "metadata": {},
   "outputs": [],
   "source": [
    "import boto3\n",
    "lambda_client = boto3.client(\"lambda\")\n",
    "s3_client = boto3.client(\"s3\")"
   ]
  },
  {
   "cell_type": "code",
   "execution_count": null,
   "id": "16e204c3",
   "metadata": {},
   "outputs": [],
   "source": [
    "import json\n",
    "\n",
    "create_corpus_arn = \"\"\n",
    "\n",
    "def create_corpus(name, s3_uri):\n",
    "\n",
    "  json_data = { \n",
    "    \"CorpusName\": name,\n",
    "    \"S3Uri\": s3_uri\n",
    "  }\n",
    "  \n",
    "  payload = json.dumps({ \"body\": json.dumps(json_data) })\n",
    "\n",
    "  response = lambda_client.invoke(\n",
    "      FunctionName='',\n",
    "      InvocationType='RequestResponse',\n",
    "      Payload=payload\n",
    "  )\n",
    "\n",
    "  print(response)\n",
    "  \n",
    "  json_obj = json.loads(response['Payload'].read())\n",
    "  data = json.loads(json_obj['body'])\n",
    "  return data"
   ]
  },
  {
   "cell_type": "code",
   "execution_count": null,
   "id": "72c15a72",
   "metadata": {},
   "outputs": [],
   "source": [
    "import time\n",
    "\n",
    "sfn_client=boto3.client('stepfunctions')\n",
    "def wait_for_sfn_sm(sm_execution_arn):\n",
    "    status = 'RUNNING'\n",
    "    while status == 'RUNNING':\n",
    "        response = sfn_client.describe_execution(executionArn=sm_execution_arn)\n",
    "        status = response.get('status')\n",
    "        if status == 'RUNNING':\n",
    "            time.sleep(15)\n",
    "        \n",
    "    return status"
   ]
  },
  {
   "cell_type": "code",
   "execution_count": null,
   "id": "b7783ba3",
   "metadata": {},
   "outputs": [],
   "source": [
    "def s3_bucket_keys(s3_client, bucket_name, bucket_prefix):\n",
    "    \"\"\"Generator for listing S3 bucket keys matching prefix\"\"\"\n",
    "\n",
    "    kwargs = {'Bucket': bucket_name, 'Prefix': bucket_prefix}\n",
    "    while True:\n",
    "        resp = s3_client.list_objects_v2(**kwargs)\n",
    "        for obj in resp['Contents']:\n",
    "            yield obj['Key']\n",
    "\n",
    "        try:\n",
    "            kwargs['ContinuationToken'] = resp['NextContinuationToken']\n",
    "        except KeyError:\n",
    "            break"
   ]
  },
  {
   "cell_type": "code",
   "execution_count": null,
   "id": "bfec8606",
   "metadata": {},
   "outputs": [],
   "source": [
    "def delete_corpus(corpus_id):\n",
    "  payload = json.dumps( { \"body\": \"{ \\\"CorpusId\\\": \\\"\" + corpus_id + \"\\\" }\" } )\n",
    "\n",
    "  print(payload)\n",
    "  response = lambda_client.invoke(\n",
    "      FunctionName='',\n",
    "      InvocationType='RequestResponse',\n",
    "      Payload=payload\n",
    "  )\n",
    "\n",
    "  print(response)"
   ]
  },
  {
   "cell_type": "code",
   "execution_count": null,
   "id": "0b166040",
   "metadata": {},
   "outputs": [],
   "source": [
    "s3_uris = []\n",
    "\n",
    "universe_bucket=\"\"\n",
    "bucket_prefix = \"mkduc-01/documents/\"\n",
    "\n",
    "for key in s3_bucket_keys(s3_client=s3_client, bucket_name=universe_bucket, bucket_prefix=bucket_prefix):\n",
    "    folder = key.rsplit(\"/\", 1)[0]\n",
    "    s3_uris.append(f\"s3://{universe_bucket}/{folder}/\")\n",
    "\n",
    "s3_uris = list(set(s3_uris))"
   ]
  },
  {
   "cell_type": "code",
   "execution_count": null,
   "id": "f713b234",
   "metadata": {},
   "outputs": [],
   "source": [
    "import re\n",
    "\n",
    "sms = []\n",
    "count = 0\n",
    "max_count = 1000\n",
    "\n",
    "filter_names = []\n",
    "for s3_uri in s3_uris:\n",
    "    m=re.match(r\".+\\/id=(\\w+)\\/\", s3_uri)\n",
    "    if m:\n",
    "        name = f\"mkduc01-{m[1]}\"\n",
    "        if filter_names and name not in filter_names:\n",
    "            continue\n",
    "        response = create_corpus(name=name, s3_uri=s3_uri)\n",
    "        sms.append( (name, response['CorpusStateMachine'],  response['CorpusId'], s3_uri) )\n",
    "        count += 1\n",
    "    if count >= max_count:\n",
    "        break\n",
    "    \n",
    "print(f\"Fast Corpus State Machines running count: {len(sms)}\")"
   ]
  },
  {
   "cell_type": "code",
   "execution_count": null,
   "id": "267ad6c7",
   "metadata": {},
   "outputs": [],
   "source": [
    "create_corpus_failed = []\n",
    "for name, sm, corpus_id, s3_uri in sms:\n",
    "    status = wait_for_sfn_sm(sm_execution_arn=sm)\n",
    "    if status != \"SUCCEEDED\":\n",
    "        delete_corpus(corpus_id=corpus_id)\n",
    "        create_corpus_failed.append((name, s3_uri))\n",
    "\n",
    "if create_corpus_failed:\n",
    "    print(f\"Fast Corpus Failed: {create_corpus_failed}\")"
   ]
  },
  {
   "cell_type": "code",
   "execution_count": null,
   "id": "26281242",
   "metadata": {},
   "outputs": [],
   "source": [
    "\n",
    "while len(create_corpus_failed) > 0:\n",
    "    sms.clear()\n",
    "    for name, s3_uri in create_corpus_failed:\n",
    "        response = create_corpus(name=name, s3_uri=s3_uri)\n",
    "        sms.append( (name, response['CorpusStateMachine'],  response['CorpusId'], s3_uri) )\n",
    "        time.sleep(60)\n",
    "\n",
    "    create_corpus_failed.clear()\n",
    "    for name, sm, corpus_id, s3_uri in sms:\n",
    "        status = wait_for_sfn_sm(sm_execution_arn=sm)\n",
    "        if status != \"SUCCEEDED\":\n",
    "            delete_corpus(corpus_id=corpus_id)\n",
    "            create_corpus_failed.append((name, s3_uri))\n",
    "\n",
    "    if create_corpus_failed:\n",
    "        print(f\"Fast corpus Failed: {create_corpus_failed}\")"
   ]
  }
 ],
 "metadata": {
  "kernelspec": {
   "display_name": "Python 3.8.13 ('pytorch')",
   "language": "python",
   "name": "python3"
  },
  "language_info": {
   "codemirror_mode": {
    "name": "ipython",
    "version": 3
   },
   "file_extension": ".py",
   "mimetype": "text/x-python",
   "name": "python",
   "nbconvert_exporter": "python",
   "pygments_lexer": "ipython3",
   "version": "3.10.9"
  },
  "vscode": {
   "interpreter": {
    "hash": "4dbc9917bcaa9a9fa434c727723b90f93ecc3435121eacd019fcd02c268a833c"
   }
  }
 },
 "nbformat": 4,
 "nbformat_minor": 5
}
