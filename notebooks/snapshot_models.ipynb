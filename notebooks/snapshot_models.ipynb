{
 "cells": [
  {
   "cell_type": "code",
   "execution_count": null,
   "id": "bb90d9d3",
   "metadata": {},
   "outputs": [],
   "source": [
    "\n",
    "import traceback\n",
    "import boto3\n",
    "from common import snapshot_hf_model_to_s3\n",
    "\n",
    "s3_client = boto3.client('s3')\n",
    "response = s3_client.list_buckets(\n",
    "    Prefix='phrase-piece-corporabucket'\n",
    ")\n",
    "buckets = response.get('Buckets', [])\n",
    "\n",
    "for item in buckets:\n",
    "    bucket = item['Name']\n",
    "    hf_model = \"sentence-transformers/distiluse-base-multilingual-cased-v2\"\n",
    "    prefix = f\"hf/{hf_model}\"\n",
    "    try:\n",
    "        snapshot_hf_model_to_s3(s3_client=s3_client, \n",
    "                                hf_model=hf_model, \n",
    "                                bucket=bucket, \n",
    "                                prefix=prefix)\n",
    "    except:\n",
    "        traceback.print_exc()\n",
    "\n",
    "    lang_codes = ['en']\n",
    "    for code in lang_codes:\n",
    "        hf_model = f\"wietsedv/xlm-roberta-base-ft-udpos28-{code}\"\n",
    "        prefix = f\"hf/{hf_model}\"\n",
    "        try:\n",
    "            snapshot_hf_model_to_s3(s3_client=s3_client, \n",
    "                                hf_model=hf_model, \n",
    "                                bucket=bucket, \n",
    "                                prefix=prefix)\n",
    "        except:\n",
    "            traceback.print_exc()\n",
    "            "
   ]
  }
 ],
 "metadata": {
  "kernelspec": {
   "display_name": ".venv",
   "language": "python",
   "name": "python3"
  },
  "language_info": {
   "codemirror_mode": {
    "name": "ipython",
    "version": 3
   },
   "file_extension": ".py",
   "mimetype": "text/x-python",
   "name": "python",
   "nbconvert_exporter": "python",
   "pygments_lexer": "ipython3",
   "version": "3.10.12"
  }
 },
 "nbformat": 4,
 "nbformat_minor": 5
}
